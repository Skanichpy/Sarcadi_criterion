{
 "cells": [
  {
   "cell_type": "markdown",
   "metadata": {},
   "source": [
    "# $\\underline{Рассмотрение\\;альтернативных\\;гипотез}$ \n"
   ]
  },
  {
   "cell_type": "code",
   "execution_count": 1,
   "metadata": {},
   "outputs": [],
   "source": [
    "import numpy as np \n",
    "import matplotlib.pyplot as plt \n",
    "from scipy.stats import *\n",
    "from math import *\n",
    "import random\n",
    "from IPython.display import display, Math\n",
    "import pandas as pd\n",
    "from time import time \n",
    "from NormalityTest import *\n",
    "from statsmodels.stats.diagnostic import normal_ad"
   ]
  },
  {
   "cell_type": "code",
   "execution_count": 11,
   "metadata": {},
   "outputs": [
    {
     "data": {
      "text/plain": [
       "(array([ 99.,  91.,  86., 114., 104., 124.,  88.,  90., 112.,  92.]),\n",
       " array([2.22953832e-04, 9.99418993e-02, 1.99660845e-01, 2.99379790e-01,\n",
       "        3.99098736e-01, 4.98817681e-01, 5.98536627e-01, 6.98255572e-01,\n",
       "        7.97974518e-01, 8.97693463e-01, 9.97412409e-01]),\n",
       " <a list of 10 Patch objects>)"
      ]
     },
     "execution_count": 11,
     "metadata": {},
     "output_type": "execute_result"
    },
    {
     "data": {
      "image/png": "[encoded data removed]",
      "text/plain": [
       "<Figure size 432x288 with 1 Axes>"
      ]
     },
     "metadata": {
      "needs_background": "light"
     },
     "output_type": "display_data"
    }
   ],
   "source": [
    "pval = []\n",
    "for i in range(1000):\n",
    "    pval.append(Sample(norm(0,1).rvs(size = 100)).sarkadi())\n",
    "    \n",
    "plt.hist(\n",
    "    pval,\n",
    "    align = 'mid', \n",
    "    alpha = 0.8, \n",
    "    edgecolor='k',\n",
    "    color = 'purple'\n",
    "\n",
    ")"
   ]
  },
  {
   "cell_type": "code",
   "execution_count": 5,
   "metadata": {
    "scrolled": true
   },
   "outputs": [
    {
     "name": "stderr",
     "output_type": "stream",
     "text": [
      "c:\\users\\вячеслав\\appdata\\local\\programs\\python\\python38-32\\lib\\site-packages\\statsmodels\\stats\\_adnorm.py:70: RuntimeWarning: divide by zero encountered in log1p\n",
      "  s = np.sum((2 * i[sl1] - 1.0) / nobs * (np.log(z) + np.log1p(-z[sl2])),\n"
     ]
    },
    {
     "name": "stdout",
     "output_type": "stream",
     "text": [
      "Время выполнения программы:  20.49595618247986\n"
     ]
    },
    {
     "data": {
      "text/latex": [
       "$\\displaystyle Для\\;проверки\\;используются\\;Exp(0,5),\\;\\chi^{2}(3),\\;N(0;1),\\;C(0;1)\\;-\\;распределения$"
      ],
      "text/plain": [
       "<IPython.core.display.Math object>"
      ]
     },
     "metadata": {},
     "output_type": "display_data"
    },
    {
     "data": {
      "text/latex": [
       "$\\displaystyle [62\\;124\\;248]\\;-\\;объёмы\\;выборок\\;соотвествующих\\;распределений$"
      ],
      "text/plain": [
       "<IPython.core.display.Math object>"
      ]
     },
     "metadata": {},
     "output_type": "display_data"
    },
    {
     "data": {
      "text/html": [
       "<div>\n",
       "<style scoped>\n",
       "    .dataframe tbody tr th:only-of-type {\n",
       "        vertical-align: middle;\n",
       "    }\n",
       "\n",
       "    .dataframe tbody tr th {\n",
       "        vertical-align: top;\n",
       "    }\n",
       "\n",
       "    .dataframe thead th {\n",
       "        text-align: right;\n",
       "    }\n",
       "</style>\n",
       "<table border=\"1\" class=\"dataframe\">\n",
       "  <thead>\n",
       "    <tr style=\"text-align: right;\">\n",
       "      <th></th>\n",
       "      <th>Распределение</th>\n",
       "      <th>62</th>\n",
       "      <th>124</th>\n",
       "      <th>248</th>\n",
       "    </tr>\n",
       "  </thead>\n",
       "  <tbody>\n",
       "    <tr>\n",
       "      <th>0</th>\n",
       "      <td>Показательное(0,5)</td>\n",
       "      <td>1.000</td>\n",
       "      <td>1.000</td>\n",
       "      <td>1.000</td>\n",
       "    </tr>\n",
       "    <tr>\n",
       "      <th>1</th>\n",
       "      <td>Хи-квадрат(3)</td>\n",
       "      <td>0.987</td>\n",
       "      <td>1.000</td>\n",
       "      <td>1.000</td>\n",
       "    </tr>\n",
       "    <tr>\n",
       "      <th>2</th>\n",
       "      <td>Нормальное(0;1)</td>\n",
       "      <td>0.061</td>\n",
       "      <td>0.059</td>\n",
       "      <td>0.053</td>\n",
       "    </tr>\n",
       "    <tr>\n",
       "      <th>3</th>\n",
       "      <td>Коши(0;1)</td>\n",
       "      <td>0.999</td>\n",
       "      <td>1.000</td>\n",
       "      <td>1.000</td>\n",
       "    </tr>\n",
       "  </tbody>\n",
       "</table>\n",
       "</div>"
      ],
      "text/plain": [
       "        Распределение     62    124    248\n",
       "0  Показательное(0,5)  1.000  1.000  1.000\n",
       "1       Хи-квадрат(3)  0.987  1.000  1.000\n",
       "2     Нормальное(0;1)  0.061  0.059  0.053\n",
       "3           Коши(0;1)  0.999  1.000  1.000"
      ]
     },
     "metadata": {},
     "output_type": "display_data"
    }
   ],
   "source": [
    "t1 = time()\n",
    "\n",
    "## Функция для для создания фрейма соотвествующих вероятностей события A\n",
    "## A - {p_value < уровень значимости}\n",
    "def SarhadiFrame(length):\n",
    "    N = 1000\n",
    "    ## Инициализация соотвествующих счетчиков\n",
    "    k_expon = 0\n",
    "    k_chi_3_2 = 0\n",
    "    k_norm = 0\n",
    "    k_cauch = 0\n",
    "    ## Цикл для подсчета событий\n",
    "    for iteration in range(N):\n",
    "        ## Проверка p-value по критерию Саркади по выборке из экспоненциального распределения\n",
    "        if Sample(expon(0.5).rvs(size = length)).sarkadi() <= 0.05:\n",
    "            k_expon += 1\n",
    "        ## Проверка p-value по критерию Саркади по выборке из хи-квадрат распределения\n",
    "        if Sample(chi2(3).rvs(size = length)).sarkadi() <= 0.05:\n",
    "            k_chi_3_2 += 1\n",
    "        ## Проверка p-value по критерию Саркади по выборке из нормального распределения\n",
    "        if Sample(norm(0,1).rvs(size = length)).sarkadi() <= 0.05:\n",
    "            k_norm += 1\n",
    "        ## Проверка p-value по критерию Саркади по выборке из распределения Коши\n",
    "        if Sample(cauchy(0,1).rvs(size = length)).sarkadi() <= 0.05:\n",
    "            k_cauch += 1\n",
    "    \n",
    "    ## Возвращение векторов вероятностей\n",
    "    return [k_expon/N,k_chi_3_2/N,k_norm/N,k_cauch/N]\n",
    "\n",
    "## Создание фрейма для хранения вероятностей\n",
    "df = pd.DataFrame({\n",
    "    'Распределение' : ['Показательное(0,5)','Хи-квадрат(3)','Нормальное(0;1)','Коши(0;1)']\n",
    "})\n",
    "\n",
    "## Заполнение фрейма\n",
    "df['62'] = SarhadiFrame(62)\n",
    "df['124'] = SarhadiFrame(124)\n",
    "df['248'] = SarhadiFrame(248)\n",
    "print('Время выполнения программы: ', time()-t1)\n",
    "display(Math(r'Для\\;проверки\\;используются\\;Exp(0,5),\\;\\chi^{2}(3),\\;N(0;1),\\;C(0;1)\\;-\\;распределения'))\n",
    "display(Math(r'[62\\;124\\;248]\\;-\\;объёмы\\;выборок\\;соотвествующих\\;распределений'))\n",
    "display(df)\n",
    "\n"
   ]
  }
 ],
 "metadata": {
  "kernelspec": {
   "display_name": "Python 3",
   "language": "python",
   "name": "python3"
  },
  "language_info": {
   "codemirror_mode": {
    "name": "ipython",
    "version": 3
   },
   "file_extension": ".py",
   "mimetype": "text/x-python",
   "name": "python",
   "nbconvert_exporter": "python",
   "pygments_lexer": "ipython3",
   "version": "3.8.2"
  }
 },
 "nbformat": 4,
 "nbformat_minor": 4
}
